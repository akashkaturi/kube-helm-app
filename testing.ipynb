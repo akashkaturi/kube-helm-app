{
 "cells": [
  {
   "cell_type": "code",
   "outputs": [
    {
     "name": "stdout",
     "output_type": "stream",
     "text": [
      "{'id': {'S': '123'}, 'name': {'S': 'John Doe'}, 'age': {'S': '20.0'}, 'city': {'S': 'Example City'}, 'email': {'S': 'john.doe@example.com'}}\n",
      "{'id': '123', 'name': 'John Doe', 'age': '20.0', 'city': 'Example City', 'email': 'john.doe@example.com'}\n",
      "{\"id\": \"123\", \"name\": \"John Doe\", \"age\": \"20.0\", \"city\": \"Example City\", \"email\": \"john.doe@example.com\"}\n",
      "{'id': '123', 'name': 'John Doe', 'age': '20.0', 'city': 'Example City', 'email': 'john.doe@example.com'}\n"
     ]
    }
   ],
   "source": [
    "import boto3\n",
    "import json\n",
    "from boto3.dynamodb.types import TypeSerializer, TypeDeserializer\n",
    "from decimal import Decimal\n",
    "\n",
    "# Create a DynamoDB client\n",
    "dynamodb = boto3.resource('dynamodb')\n",
    "table=dynamodb\n",
    "# Sample dictionary with floating-point number\n",
    "sample_dict = {\n",
    "    'id': '123',\n",
    "    'name': 'John Doe',\n",
    "    # 'cgpa': 9.25,\n",
    "    'age':\"20.0\",\n",
    "    'city': 'Example City',\n",
    "    'email': 'john.doe@example.com'\n",
    "}\n",
    "\n",
    "# Selectively choose the keys you want to convert to DynamoDB objects\n",
    "keys_to_serialize = ['id', 'name', 'email', 'city','age']\n",
    "\n",
    "# Initialize serializer and serialize selected keys\n",
    "serializer = TypeSerializer()\n",
    "deserializer= TypeDeserializer()\n",
    "\n",
    "serialized_item = {key: serializer.serialize(value) for key, value in sample_dict.items() if key in keys_to_serialize}\n",
    "\n",
    "deserialized_item = {key: deserializer.deserialize(value) for key, value in serialized_item.items() if key in keys_to_serialize}\n",
    "# Convert the floating-point number to Decimal\n",
    "\n",
    "\n",
    "# Put the item into DynamoDB table\n",
    "dynamodb.put_item(\n",
    "    TableName='YourTableName',\n",
    "    Item=serialized_item\n",
    ")\n",
    "dynamodb.get_item(\n",
    "    \n",
    ")\n",
    "print(serialized_item)\n",
    "print(deserialized_item)\n",
    "s=json.dumps(sample_dict)\n",
    "print(s)\n",
    "ds=json.loads(s, parse_float=Decimal)\n",
    "print(ds)"
   ],
   "metadata": {
    "collapsed": false,
    "ExecuteTime": {
     "end_time": "2024-02-05T13:35:37.404067Z",
     "start_time": "2024-02-05T13:35:37.293594Z"
    }
   },
   "id": "962ba2756ea5a628",
   "execution_count": 17
  },
  {
   "cell_type": "code",
   "outputs": [
    {
     "name": "stdout",
     "output_type": "stream",
     "text": [
      "{'id': '1230', 'name': 'field', 'area': '10', 'area_calculation': '20', 'latitude': '10', 'longitude': '20'}\n",
      "{'id': '1231', 'name': 'field', 'area': '10', 'area_calculation': '20', 'latitude': '10', 'longitude': '20'}\n",
      "{'id': '1232', 'name': 'field', 'area': '10', 'area_calculation': '20', 'latitude': '10', 'longitude': '20'}\n",
      "{'id': '1233', 'name': 'field', 'area': '10', 'area_calculation': '20', 'latitude': '10', 'longitude': '20'}\n",
      "{'id': '1234', 'name': 'field', 'area': '10', 'area_calculation': '20', 'latitude': '10', 'longitude': '20'}\n",
      "{'id': '1235', 'name': 'field', 'area': '10', 'area_calculation': '20', 'latitude': '10', 'longitude': '20'}\n",
      "{'id': '1236', 'name': 'field', 'area': '10', 'area_calculation': '20', 'latitude': '10', 'longitude': '20'}\n",
      "{'id': '1237', 'name': 'field', 'area': '10', 'area_calculation': '20', 'latitude': '10', 'longitude': '20'}\n",
      "{'id': '1238', 'name': 'field', 'area': '10', 'area_calculation': '20', 'latitude': '10', 'longitude': '20'}\n",
      "{'id': '1239', 'name': 'field', 'area': '10', 'area_calculation': '20', 'latitude': '10', 'longitude': '20'}\n"
     ]
    }
   ],
   "source": [
    "field={\n",
    "    \"id\":\"123\",\n",
    "    \"name\":\"field\",\n",
    "    \"shape_attrs\":{\n",
    "        \"area\":\"10\",\n",
    "        \"area_calculation\":\"20\",\n",
    "        \"latitude\":\"10\",\n",
    "        \"longitude\":\"20\",\n",
    "    }\n",
    "}\n",
    "items=[]\n",
    "def filter_item(item:dict):\n",
    "    if item.get(\"shape_attrs\"):\n",
    "        item[\"area\"]=item[\"shape_attrs\"][\"area\"]\n",
    "        item[\"area_calculation\"]=item[\"shape_attrs\"][\"area_calculation\"]\n",
    "        item[\"latitude\"]=item[\"shape_attrs\"][\"latitude\"]\n",
    "        item[\"longitude\"]=item[\"shape_attrs\"][\"longitude\"]\n",
    "        del item[\"shape_attrs\"]\n",
    "    return item\n",
    "    \n",
    "for i in range(10):\n",
    "    field={\n",
    "    \"id\":\"123\"+str(i),\n",
    "    \"name\":\"field\",\n",
    "    \"shape_attrs\":{\n",
    "        \"area\":\"10\",\n",
    "        \"area_calculation\":\"20\",\n",
    "        \"latitude\":\"10\",\n",
    "        \"longitude\":\"20\",\n",
    "    }\n",
    "}\n",
    "    items.append(filter_item(field))\n",
    "\n",
    "    \n",
    "    \n",
    "for item in items:\n",
    "    print(item)"
   ],
   "metadata": {
    "collapsed": false,
    "ExecuteTime": {
     "end_time": "2024-02-05T13:58:18.132677Z",
     "start_time": "2024-02-05T13:58:18.115902Z"
    }
   },
   "id": "8141a7d9e01a7282",
   "execution_count": 25
  },
  {
   "cell_type": "code",
   "outputs": [
    {
     "ename": "ImportError",
     "evalue": "cannot import name 'mock_dynamodb' from 'moto' (/Users/akashkaturi/Documents/Coding/Kubernetes/Project/src/venv/lib/python3.11/site-packages/moto/__init__.py)",
     "output_type": "error",
     "traceback": [
      "\u001B[0;31m---------------------------------------------------------------------------\u001B[0m",
      "\u001B[0;31mImportError\u001B[0m                               Traceback (most recent call last)",
      "Cell \u001B[0;32mIn[6], line 1\u001B[0m\n\u001B[0;32m----> 1\u001B[0m \u001B[38;5;28;01mfrom\u001B[39;00m \u001B[38;5;21;01mmoto\u001B[39;00m \u001B[38;5;28;01mimport\u001B[39;00m mock_dynamodb\n",
      "\u001B[0;31mImportError\u001B[0m: cannot import name 'mock_dynamodb' from 'moto' (/Users/akashkaturi/Documents/Coding/Kubernetes/Project/src/venv/lib/python3.11/site-packages/moto/__init__.py)"
     ]
    }
   ],
   "source": [],
   "metadata": {
    "collapsed": false,
    "ExecuteTime": {
     "end_time": "2024-02-05T16:03:35.295131Z",
     "start_time": "2024-02-05T16:03:35.278921Z"
    }
   },
   "id": "b5217e28c211126f",
   "execution_count": 6
  },
  {
   "cell_type": "code",
   "outputs": [],
   "source": [
    "from moto import mock_aws\n"
   ],
   "metadata": {
    "collapsed": false,
    "ExecuteTime": {
     "end_time": "2024-02-05T16:04:45.200705Z",
     "start_time": "2024-02-05T16:04:45.192832Z"
    }
   },
   "id": "aa83babd0afb1969",
   "execution_count": 8
  },
  {
   "cell_type": "code",
   "outputs": [],
   "source": [],
   "metadata": {
    "collapsed": false
   },
   "id": "1a04125a88f4b3bd"
  }
 ],
 "metadata": {
  "kernelspec": {
   "display_name": "Python 3",
   "language": "python",
   "name": "python3"
  },
  "language_info": {
   "codemirror_mode": {
    "name": "ipython",
    "version": 2
   },
   "file_extension": ".py",
   "mimetype": "text/x-python",
   "name": "python",
   "nbconvert_exporter": "python",
   "pygments_lexer": "ipython2",
   "version": "2.7.6"
  }
 },
 "nbformat": 4,
 "nbformat_minor": 5
}
